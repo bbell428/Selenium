{
 "cells": [
  {
   "cell_type": "code",
   "execution_count": 50,
   "id": "91e0dfb4",
   "metadata": {},
   "outputs": [],
   "source": [
    "from selenium import webdriver\n",
    "from selenium.webdriver.chrome.options import Options\n",
    "from selenium.webdriver.common.by import By\n",
    "from selenium.webdriver.common.keys import Keys\n",
    "import time"
   ]
  },
  {
   "cell_type": "code",
   "execution_count": 51,
   "id": "a1e2f306",
   "metadata": {},
   "outputs": [],
   "source": [
    "# 웹 로딩 기다림\n",
    "from selenium.webdriver.support.ui import WebDriverWait\n",
    "from selenium.webdriver.support import expected_conditions as EC"
   ]
  },
  {
   "cell_type": "code",
   "execution_count": 52,
   "id": "289383b3",
   "metadata": {},
   "outputs": [],
   "source": [
    "Options = Options()\n",
    "Options.add_argument(\"--start-maximized\") # 화면을 꽉 차게 띄우기\n",
    "Options.add_experimental_option(\"detach\", True)"
   ]
  },
  {
   "cell_type": "markdown",
   "id": "78558115",
   "metadata": {},
   "source": [
    "# 1. 네이버 항공권 접속"
   ]
  },
  {
   "cell_type": "code",
   "execution_count": 53,
   "id": "c9db1259",
   "metadata": {},
   "outputs": [],
   "source": [
    "browser = webdriver.Chrome(options=Options)\n",
    "url = \"https://flight.naver.com/\"\n",
    "browser.get(url)"
   ]
  },
  {
   "cell_type": "code",
   "execution_count": 54,
   "id": "caedd179",
   "metadata": {},
   "outputs": [],
   "source": [
    "# 광고 제거\n",
    "time.sleep(3)\n",
    "browser.find_element(By.CLASS_NAME, 'FullscreenPopup_close').click()"
   ]
  },
  {
   "cell_type": "markdown",
   "id": "029390d2",
   "metadata": {},
   "source": [
    "# 2. 출발 위치 + 도착 위치"
   ]
  },
  {
   "cell_type": "markdown",
   "id": "5ae8b152",
   "metadata": {},
   "source": [
    "### 출발 위치 - 서울"
   ]
  },
  {
   "cell_type": "code",
   "execution_count": 55,
   "id": "6158246a",
   "metadata": {},
   "outputs": [],
   "source": [
    "browser.find_element(By.CLASS_NAME, 'tabContent_route__EXyDz.select_City__mKbzk.start').click()"
   ]
  },
  {
   "cell_type": "code",
   "execution_count": 56,
   "id": "1173ca63",
   "metadata": {},
   "outputs": [],
   "source": [
    "time.sleep(2)\n",
    "elem = browser.find_elements(By.CSS_SELECTOR, '.popularCities_button__97S3N')\n",
    "elem[0].click() # 서울 - li태그로 되어 있음."
   ]
  },
  {
   "cell_type": "markdown",
   "id": "10846efb",
   "metadata": {},
   "source": [
    "### 도착 위치 - 제주"
   ]
  },
  {
   "cell_type": "code",
   "execution_count": 57,
   "id": "8786c05a",
   "metadata": {},
   "outputs": [],
   "source": [
    "time.sleep(2)\n",
    "browser.find_element(By.CLASS_NAME, 'tabContent_route__EXyDz.select_City__mKbzk.end').click()"
   ]
  },
  {
   "cell_type": "code",
   "execution_count": 58,
   "id": "7a5d16ac",
   "metadata": {},
   "outputs": [],
   "source": [
    "time.sleep(2)\n",
    "elem = browser.find_element(By.XPATH, '//*[@id=\"__next\"]/div/main/div[8]/div[2]/div[2]/div[2]/ul[1]/li[1]/button')\n",
    "elem.click()"
   ]
  },
  {
   "cell_type": "markdown",
   "id": "6cabee7c",
   "metadata": {},
   "source": [
    "# 3. 가는 날 + 오는 날"
   ]
  },
  {
   "cell_type": "markdown",
   "id": "0c69a6ba",
   "metadata": {},
   "source": [
    "### 가는 날 - 25.10.29"
   ]
  },
  {
   "cell_type": "code",
   "execution_count": 59,
   "id": "5df9e028",
   "metadata": {},
   "outputs": [],
   "source": [
    "time.sleep(2)\n",
    "browser.find_elements(By.CSS_SELECTOR, '.tabContent_option___mYJO')[0].click()"
   ]
  },
  {
   "cell_type": "code",
   "execution_count": 60,
   "id": "4add756c",
   "metadata": {},
   "outputs": [],
   "source": [
    "time.sleep(2)\n",
    "browser.find_element(By.XPATH, '//*[@id=\"__next\"]/div/main/div[8]/div[2]/div[1]/div[2]/div/div/div[2]/table/tbody/tr[5]/td[4]/button').click()"
   ]
  },
  {
   "cell_type": "markdown",
   "id": "1dd73200",
   "metadata": {},
   "source": [
    "### 오는 날 - 25.11.6"
   ]
  },
  {
   "cell_type": "code",
   "execution_count": 61,
   "id": "6252a123",
   "metadata": {},
   "outputs": [],
   "source": [
    "time.sleep(2)\n",
    "browser.find_elements(By.CSS_SELECTOR, '.calendar_DateInput__zA2e_')[1].click()"
   ]
  },
  {
   "cell_type": "code",
   "execution_count": 62,
   "id": "e3dd55c6",
   "metadata": {},
   "outputs": [],
   "source": [
    "time.sleep(2)\n",
    "browser.find_element(By.XPATH, '//*[@id=\"__next\"]/div/main/div[8]/div[2]/div[1]/div[2]/div/div/div[3]/table/tbody/tr[2]/td[5]/button').click()"
   ]
  },
  {
   "cell_type": "markdown",
   "id": "c0d59fad",
   "metadata": {},
   "source": [
    "# 4. 인원 - 성인 2명"
   ]
  },
  {
   "cell_type": "code",
   "execution_count": 63,
   "id": "5f675207",
   "metadata": {},
   "outputs": [],
   "source": [
    "time.sleep(2)\n",
    "browser.find_elements(By.CSS_SELECTOR, '.tabContent_option___mYJO')[2].click()\n",
    "time.sleep(2)\n",
    "browser.find_element(By.CLASS_NAME, 'searchBox_outer__0M2xd').click()\n",
    "time.sleep(2)\n",
    "browser.find_element(By.CLASS_NAME, 'searchBox_txt__jQZGF').click()\n"
   ]
  },
  {
   "cell_type": "markdown",
   "id": "f0110398",
   "metadata": {},
   "source": [
    "# 5. 항공권 검색 클릭"
   ]
  },
  {
   "cell_type": "code",
   "execution_count": 64,
   "id": "3fcf72c5",
   "metadata": {},
   "outputs": [],
   "source": [
    "time.sleep(2)\n",
    "browser.find_element(By.CLASS_NAME, 'searchBox_txt__jQZGF').click()"
   ]
  },
  {
   "cell_type": "markdown",
   "id": "ec8cc71e",
   "metadata": {},
   "source": [
    "# 6. 로딩 기다린 후, 1번째꺼 비행기 클릭"
   ]
  },
  {
   "cell_type": "code",
   "execution_count": 65,
   "id": "d7a8bd45",
   "metadata": {},
   "outputs": [
    {
     "name": "stdout",
     "output_type": "stream",
     "text": [
      "파라타항공\n",
      "06:05GMP\n",
      "07:20CJU\n",
      "01시간 15분\n",
      "할인석편도 15,600원~\n",
      "실패\n"
     ]
    }
   ],
   "source": [
    "try:\n",
    "    elem = WebDriverWait(browser, 10).until(EC.presence_of_element_located((By.XPATH, '//*[@id=\"__next\"]/div/main/div[4]/div/div[2]/div[2]/div[1]/div')))\n",
    "    print(elem.text)\n",
    "    browser.quit()\n",
    "finally:\n",
    "    print('실패')\n",
    "    browser.quit()"
   ]
  },
  {
   "cell_type": "code",
   "execution_count": null,
   "id": "82d59dc3",
   "metadata": {},
   "outputs": [],
   "source": []
  }
 ],
 "metadata": {
  "kernelspec": {
   "display_name": "Python 3",
   "language": "python",
   "name": "python3"
  },
  "language_info": {
   "codemirror_mode": {
    "name": "ipython",
    "version": 3
   },
   "file_extension": ".py",
   "mimetype": "text/x-python",
   "name": "python",
   "nbconvert_exporter": "python",
   "pygments_lexer": "ipython3",
   "version": "3.13.5"
  }
 },
 "nbformat": 4,
 "nbformat_minor": 5
}
